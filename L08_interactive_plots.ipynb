{
 "cells": [
  {
   "cell_type": "markdown",
   "metadata": {},
   "source": [
    "## Script to execute all the graphics we have used during the lecture ##\n",
    "First step is to add the widget finctionality to your Anaconda package manager.  \n",
    "\n",
    "1. Install nodejs, e.g. **conda install nodejs**.  \n",
    "2. Install ipympl, e.g. **conda install ipympl**.  \n",
    "\n",
    "3. Install extensions:  \n",
    "Run the bold commands in the anaconda prompt and follow instructions if necessary.  \n",
    "**jupyter labextension install @jupyter-widgets/jupyterlab-manager**  \n",
    "**jupyter labextension install jupyter-matplotlib**  \n",
    "Enable widgets: **jupyter nbextension enable --py widgetsnbextension**.  \n",
    "\n",
    "Restart JupyterLab.  \n",
    "Decorate with **%matplotlib widget**.  \n",
    "\n",
    "If you find any problems please try to resolve yourself and don't give up. This is the only way to learn !!  \n",
    "Some useful resources can be found at:  \n",
    "- https://ipywidgets.readthedocs.io/en/latest/user_install.html  \n",
    "- https://stackoverflow.com/questions/49542417/how-to-get-ipywidgets-working-in-jupyter-lab  \n",
    "- https://stackoverflow.com/questions/50149562/jupyterlab-interactive-plot  \n",
    "and if you don't find the answer here, internet is a beautiful place to find answers."
   ]
  },
  {
   "cell_type": "code",
   "execution_count": 2,
   "metadata": {},
   "outputs": [],
   "source": [
    "import numpy as np\n",
    "import matplotlib.pyplot as plt\n",
    "import ipywidgets as widgets\n",
    "from IPython.display import display\n",
    "%matplotlib widget"
   ]
  },
  {
   "cell_type": "markdown",
   "metadata": {},
   "source": [
    "## Create a sinusoidal waveform and control amplitude/frequancy ##\n",
    "To create the sinusoidal waveform I have used the typical wave equation. \n",
    "First define the x axis, in this case is continous time.  \n",
    "A = amplitude of the signal  \n",
    "$\\omega$ = frequency  \n",
    "$\\phi$ = phase  \n",
    "\n",
    "The waveform results from:  \n",
    "\n",
    "\n",
    "wave = A$sin(2\\pi*(\\omega*time+\\phi))$"
   ]
  },
  {
   "cell_type": "code",
   "execution_count": 3,
   "metadata": {},
   "outputs": [
    {
     "data": {
      "application/vnd.jupyter.widget-view+json": {
       "model_id": "ec28b877df314dd6a96170539629b808",
       "version_major": 2,
       "version_minor": 0
      },
      "text/plain": [
       "Canvas(toolbar=Toolbar(toolitems=[('Home', 'Reset original view', 'home', 'home'), ('Back', 'Back to previous …"
      ]
     },
     "metadata": {},
     "output_type": "display_data"
    },
    {
     "data": {
      "application/vnd.jupyter.widget-view+json": {
       "model_id": "5ff0b725e82f4adda47bbf9fc285e77c",
       "version_major": 2,
       "version_minor": 0
      },
      "text/plain": [
       "interactive(children=(FloatSlider(value=1.0, description='Amp:', max=10.0, min=0.1), FloatSlider(value=1.0, de…"
      ]
     },
     "metadata": {},
     "output_type": "display_data"
    }
   ],
   "source": [
    "def waveform(sampling_rate,freq,amp=1):\n",
    "    '''\n",
    "    This function create a sinusoidal waveform by solving the wave equation\n",
    "    The time interval by default is 10\n",
    "    Input parameters: \n",
    "    - the sampling rate of the sample \n",
    "    - the desired frequency \n",
    "    - amplitude of the signal (default 1)\n",
    "    Return: \n",
    "    two arrays of signal and time\n",
    "    '''\n",
    "    time = np.arange(0,6,sampling_rate)\n",
    "    phase = 0\n",
    "    signal = amp*np.sin(2*np.pi*(freq*time+phase))\n",
    "    return signal, time\n",
    "\n",
    "fig, ax = plt.subplots(1, figsize=(10, 4))\n",
    "def update_plot(amp,freq):\n",
    "    ax.clear()\n",
    "    sig,tim=waveform(0.001,1)\n",
    "    signal,time = waveform(0.001,freq,amp)\n",
    "    ax.plot(tim,sig,'k')\n",
    "    ax.plot(time,signal,'r')\n",
    "    ax.axhline(0,color='k',linestyle='--')\n",
    "    ax.set_xlabel('Time [s]')\n",
    "    ax.set_ylabel('Amplitude [V]')\n",
    "    plt.show()\n",
    "\n",
    "amp = widgets.FloatSlider(min=0.1, max=10, value=1, description='Amp:')\n",
    "freq = widgets.FloatSlider(min=0.1, max=10, value=1, description='Freq:')\n",
    "widgets.interactive(update_plot, amp=amp, freq=freq)\n"
   ]
  },
  {
   "cell_type": "markdown",
   "metadata": {},
   "source": [
    "## Example of sampling a continous signal using different frequencies ## "
   ]
  },
  {
   "cell_type": "code",
   "execution_count": 4,
   "metadata": {},
   "outputs": [
    {
     "data": {
      "application/vnd.jupyter.widget-view+json": {
       "model_id": "b107f35901b347c6b2219219702ba1cf",
       "version_major": 2,
       "version_minor": 0
      },
      "text/plain": [
       "Canvas(toolbar=Toolbar(toolitems=[('Home', 'Reset original view', 'home', 'home'), ('Back', 'Back to previous …"
      ]
     },
     "metadata": {},
     "output_type": "display_data"
    },
    {
     "data": {
      "application/vnd.jupyter.widget-view+json": {
       "model_id": "6df677983dc04f0a946ee4f178db17d1",
       "version_major": 2,
       "version_minor": 0
      },
      "text/plain": [
       "interactive(children=(FloatText(value=1.0, description='Samp Freq [Hz]:', step=0.25), Output()), _dom_classes=…"
      ]
     },
     "metadata": {},
     "output_type": "display_data"
    }
   ],
   "source": [
    "# make interective sampling \n",
    "from scipy.interpolate import interp1d\n",
    "\n",
    "# create a plot windw\n",
    "fig, ax = plt.subplots(1, figsize=(10,4))\n",
    "\n",
    "def update_plot(sampling_freq):\n",
    "    ax.clear()\n",
    "    # create the analog signal at 1Hz frequency and sampling rate of 1000Hz (i.e. 0.001 time step)\n",
    "    analog_signal, analog_time = waveform(0.001,1)\n",
    "    # sample the analog signal based on the input sampling frequency\n",
    "    sampling_rate = int((1/sampling_freq)*1000)\n",
    "    sampled_signal = analog_signal[250::sampling_rate] # start from 250 to start from the peak\n",
    "    sampled_time = analog_time[250::sampling_rate]\n",
    "    # interpolate the sampling points\n",
    "    f = interp1d(sampled_time,sampled_signal,kind='quadratic')\n",
    "    xnew = np.arange(0.25,5,0.01)\n",
    "    # plot everything\n",
    "    ax.plot(analog_time,analog_signal,'k')\n",
    "    ax.scatter(sampled_time,sampled_signal,c='r',marker='o')\n",
    "    ax.plot(xnew,f(xnew),'r--')\n",
    "    ax.axhline(0,color='k',linestyle='--')\n",
    "    ax.set_xlim([0,5])\n",
    "    ax.set_xlabel('Time [s]')\n",
    "    ax.set_ylabel('Amplitude [V]')\n",
    "    plt.show()\n",
    "\n",
    "# define the widget to use to change the sampling frequency\n",
    "#sampling_freq = widgets.FloatSlider(min=1, max=100, value=1, description='Sampling Frequency [Hz]:')\n",
    "sampling_freq = widgets.FloatText(min=1, max=100, value=1,step=0.25, description='Samp Freq [Hz]:')\n",
    "\n",
    "widgets.interactive(update_plot, sampling_freq=sampling_freq)\n"
   ]
  },
  {
   "cell_type": "markdown",
   "metadata": {},
   "source": [
    "## Simulate the sample and hold procedure that is operated in DAC ##"
   ]
  },
  {
   "cell_type": "code",
   "execution_count": 5,
   "metadata": {},
   "outputs": [
    {
     "data": {
      "application/vnd.jupyter.widget-view+json": {
       "model_id": "6579baccfbd64795b00166909129e101",
       "version_major": 2,
       "version_minor": 0
      },
      "text/plain": [
       "Canvas(toolbar=Toolbar(toolitems=[('Home', 'Reset original view', 'home', 'home'), ('Back', 'Back to previous …"
      ]
     },
     "metadata": {},
     "output_type": "display_data"
    },
    {
     "data": {
      "application/vnd.jupyter.widget-view+json": {
       "model_id": "a95dd9d1d90f41ecb6a2f433113f0610",
       "version_major": 2,
       "version_minor": 0
      },
      "text/plain": [
       "interactive(children=(FloatText(value=1.0, description='Samp Freq [Hz]:', step=0.5), Output()), _dom_classes=(…"
      ]
     },
     "metadata": {},
     "output_type": "display_data"
    }
   ],
   "source": [
    "# make interective sampling \n",
    "from scipy.interpolate import interp1d\n",
    "\n",
    "# create a plot windw\n",
    "fig, ax = plt.subplots(1, figsize=(10,4))\n",
    "\n",
    "def update_plot(sampling_freq):\n",
    "    ax.clear()\n",
    "    # create the analog signal at 1Hz frequency and sampling rate of 1000Hz (i.e. 0.001 time step)\n",
    "    analog_signal, analog_time = waveform(0.001,1)\n",
    "    # sample the analog signal based on the input sampling frequency\n",
    "    sampling_rate = int((1/sampling_freq)*1000)\n",
    "    sampled_signal = analog_signal[250::sampling_rate] # start from 250 to start from the peak\n",
    "    sampled_time = analog_time[250::sampling_rate]\n",
    "    # interpolate the sampling points\n",
    "    f = interp1d(sampled_time,sampled_signal,kind='previous')\n",
    "    xnew = np.arange(0.25,5,0.01)\n",
    "    # plot everything\n",
    "    ax.plot(analog_time,analog_signal,'k')\n",
    "    ax.scatter(sampled_time,sampled_signal,c='r',marker='o')\n",
    "    ax.plot(xnew,f(xnew),'r--')\n",
    "    ax.axhline(0,color='k',linestyle='--')\n",
    "    ax.set_xlim([0,5])\n",
    "    ax.set_xlabel('Time [s]')\n",
    "    ax.set_ylabel('Amplitude [V]')\n",
    "    plt.show()\n",
    "\n",
    "# define the widget to use to change the sampling frequency\n",
    "#sampling_freq = widgets.FloatSlider(min=1, max=100, value=1, description='Sampling Frequency [Hz]:')\n",
    "sampling_freq = widgets.FloatText(min=1, max=100, value=1,step=0.5, description='Samp Freq [Hz]:')\n",
    "\n",
    "widgets.interactive(update_plot, sampling_freq=sampling_freq)\n"
   ]
  },
  {
   "cell_type": "code",
   "execution_count": null,
   "metadata": {},
   "outputs": [],
   "source": []
  }
 ],
 "metadata": {
  "kernelspec": {
   "display_name": "Python 3",
   "language": "python",
   "name": "python3"
  },
  "language_info": {
   "codemirror_mode": {
    "name": "ipython",
    "version": 3
   },
   "file_extension": ".py",
   "mimetype": "text/x-python",
   "name": "python",
   "nbconvert_exporter": "python",
   "pygments_lexer": "ipython3",
   "version": "3.8.8"
  }
 },
 "nbformat": 4,
 "nbformat_minor": 4
}
